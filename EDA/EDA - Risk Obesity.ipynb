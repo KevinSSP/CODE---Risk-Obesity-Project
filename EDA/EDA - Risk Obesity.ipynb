{
 "cells": [
  {
   "cell_type": "markdown",
   "metadata": {
    "application/vnd.databricks.v1+cell": {
     "cellMetadata": {},
     "inputWidgets": {},
     "nuid": "2c2e31e3-031a-42c9-b6c5-35150fd3d721",
     "showTitle": false,
     "tableResultSettingsMap": {},
     "title": ""
    },
    "id": "BKZ3EgKwh8Zl"
   },
   "source": [
    "# Cargue de librerias"
   ]
  },
  {
   "cell_type": "code",
   "execution_count": 0,
   "metadata": {
    "application/vnd.databricks.v1+cell": {
     "cellMetadata": {
      "byteLimit": 2048000,
      "rowLimit": 10000
     },
     "inputWidgets": {},
     "nuid": "4ae3a6d2-89b8-4515-88e3-6a453e659fa1",
     "showTitle": false,
     "tableResultSettingsMap": {},
     "title": ""
    }
   },
   "outputs": [],
   "source": [
    "# Librerias necesarias\n",
    "import pandas as pd\n",
    "import numpy as np\n",
    "import matplotlib.pyplot as plt\n",
    "import seaborn as sns\n",
    "import warnings\n",
    "warnings.filterwarnings('ignore')"
   ]
  },
  {
   "cell_type": "markdown",
   "metadata": {
    "application/vnd.databricks.v1+cell": {
     "cellMetadata": {},
     "inputWidgets": {},
     "nuid": "7c8c2fa9-320d-4ed2-a4ab-1789096e60a0",
     "showTitle": false,
     "tableResultSettingsMap": {},
     "title": ""
    },
    "id": "ZUiOjQ45iAj-"
   },
   "source": [
    "# Importar archivo"
   ]
  },
  {
   "cell_type": "code",
   "execution_count": 0,
   "metadata": {
    "application/vnd.databricks.v1+cell": {
     "cellMetadata": {
      "byteLimit": 2048000,
      "rowLimit": 10000
     },
     "inputWidgets": {},
     "nuid": "7cef75b4-974f-4cf8-8519-a7e5b13b6942",
     "showTitle": false,
     "tableResultSettingsMap": {},
     "title": ""
    }
   },
   "outputs": [],
   "source": [
    "# El conjutno de datos se encuentra un repositorio en la nube solo apra esta actividad realizar la exploracion de datos, en los otros entregables se tendra en cuenta el repositorio de DVC\n",
    "url = \"./ObesityDataSet.csv\"\n",
    "\n",
    "# Lee el CSV directamente con pandas\n",
    "df = pd.read_csv(url)\n",
    "\n",
    "# Muestra el DataFrame de pandas\n",
    "display(df)"
   ]
  },
  {
   "cell_type": "markdown",
   "metadata": {
    "application/vnd.databricks.v1+cell": {
     "cellMetadata": {},
     "inputWidgets": {},
     "nuid": "5d40079e-767c-4c6c-8dc1-03bc8278fddf",
     "showTitle": false,
     "tableResultSettingsMap": {},
     "title": ""
    },
    "id": "_9bvogetib1x"
   },
   "source": [
    "# Exploracion de datos"
   ]
  },
  {
   "cell_type": "markdown",
   "metadata": {
    "application/vnd.databricks.v1+cell": {
     "cellMetadata": {},
     "inputWidgets": {},
     "nuid": "76691852-2a0d-4bd4-859b-1ecc9fc26e04",
     "showTitle": false,
     "tableResultSettingsMap": {},
     "title": ""
    },
    "id": "NdpwbXJEjjtP"
   },
   "source": [
    "## Informacion general"
   ]
  },
  {
   "cell_type": "code",
   "execution_count": 0,
   "metadata": {
    "application/vnd.databricks.v1+cell": {
     "cellMetadata": {
      "byteLimit": 2048000,
      "rowLimit": 10000
     },
     "inputWidgets": {},
     "nuid": "6e5d378f-f23f-4503-856e-735f5173c5ad",
     "showTitle": false,
     "tableResultSettingsMap": {},
     "title": ""
    }
   },
   "outputs": [],
   "source": [
    "# Información general del dataset\n",
    "print(df.info())\n",
    "\n",
    "# Estadísticas descriptivas para variables numéricas\n",
    "print(df.describe())"
   ]
  },
  {
   "cell_type": "code",
   "execution_count": 0,
   "metadata": {
    "application/vnd.databricks.v1+cell": {
     "cellMetadata": {
      "byteLimit": 2048000,
      "rowLimit": 10000
     },
     "inputWidgets": {},
     "nuid": "92ee60d7-1394-4fd9-87cf-555ee50a719e",
     "showTitle": false,
     "tableResultSettingsMap": {},
     "title": ""
    }
   },
   "outputs": [],
   "source": [
    "df.columns"
   ]
  },
  {
   "cell_type": "markdown",
   "metadata": {
    "application/vnd.databricks.v1+cell": {
     "cellMetadata": {},
     "inputWidgets": {},
     "nuid": "f5bac149-b3ac-4906-9de1-3a88e4b84af8",
     "showTitle": false,
     "tableResultSettingsMap": {},
     "title": ""
    },
    "id": "5JJRNLiCjoqB"
   },
   "source": [
    "## Revisar valores faltantes y duplicados"
   ]
  },
  {
   "cell_type": "code",
   "execution_count": 0,
   "metadata": {
    "application/vnd.databricks.v1+cell": {
     "cellMetadata": {
      "byteLimit": 2048000,
      "rowLimit": 10000
     },
     "inputWidgets": {},
     "nuid": "035e8437-f767-462e-b2e5-9fa0febf2816",
     "showTitle": false,
     "tableResultSettingsMap": {},
     "title": ""
    }
   },
   "outputs": [],
   "source": [
    "# Revisar si hay valores nulos\n",
    "print(df.isnull().sum())\n"
   ]
  },
  {
   "cell_type": "code",
   "execution_count": 0,
   "metadata": {
    "application/vnd.databricks.v1+cell": {
     "cellMetadata": {
      "byteLimit": 2048000,
      "rowLimit": 10000
     },
     "inputWidgets": {},
     "nuid": "7fadc050-abfb-44d3-81b7-e66982af1c3a",
     "showTitle": false,
     "tableResultSettingsMap": {},
     "title": ""
    }
   },
   "outputs": [],
   "source": [
    "# Revisar duplicados\n",
    "print(df.duplicated().sum())"
   ]
  },
  {
   "cell_type": "code",
   "execution_count": 0,
   "metadata": {
    "application/vnd.databricks.v1+cell": {
     "cellMetadata": {
      "byteLimit": 2048000,
      "rowLimit": 10000
     },
     "inputWidgets": {},
     "nuid": "05b8a31b-d051-4c2a-af80-015362e8c723",
     "showTitle": false,
     "tableResultSettingsMap": {},
     "title": ""
    }
   },
   "outputs": [],
   "source": [
    "# Revisar columnas con valores duplicados\n",
    "for col in df.columns:\n",
    "    num_duplicados = df.duplicated(subset=[col]).sum()\n",
    "    print(f\"{col}: {num_duplicados} duplicados\")"
   ]
  },
  {
   "cell_type": "markdown",
   "metadata": {
    "application/vnd.databricks.v1+cell": {
     "cellMetadata": {},
     "inputWidgets": {},
     "nuid": "c94c72b7-491a-41f7-8ef6-9cc4a56b45ad",
     "showTitle": false,
     "tableResultSettingsMap": {},
     "title": ""
    },
    "id": "mIL10ScjkaYr"
   },
   "source": [
    "## Análisis univariado"
   ]
  },
  {
   "cell_type": "markdown",
   "metadata": {
    "application/vnd.databricks.v1+cell": {
     "cellMetadata": {},
     "inputWidgets": {},
     "nuid": "40df52c8-9628-4fad-acf2-801cfa0ea7b9",
     "showTitle": false,
     "tableResultSettingsMap": {},
     "title": ""
    },
    "id": "cJ-RUUV8laPm"
   },
   "source": [
    "## Análisis bivariado"
   ]
  }
 ],
 "metadata": {
  "application/vnd.databricks.v1+notebook": {
   "computePreferences": null,
   "dashboards": [],
   "environmentMetadata": null,
   "inputWidgetPreferences": null,
   "language": "python",
   "notebookMetadata": {
    "pythonIndentUnit": 4
   },
   "notebookName": "EDA - Risk Obesity",
   "widgets": {}
  },
  "colab": {
   "authorship_tag": "ABX9TyM4kugh2BDaQvCb9d2xFjfN",
   "provenance": [],
   "toc_visible": true
  },
  "kernelspec": {
   "display_name": "Python 3",
   "name": "python3"
  },
  "language_info": {
   "name": "python"
  }
 },
 "nbformat": 4,
 "nbformat_minor": 0
}
