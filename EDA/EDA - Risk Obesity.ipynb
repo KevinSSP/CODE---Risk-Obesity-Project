{
 "cells": [
  {
   "cell_type": "markdown",
   "metadata": {
    "id": "BKZ3EgKwh8Zl"
   },
   "source": [
    "# Cargue de librerias"
   ]
  },
  {
   "cell_type": "markdown",
   "metadata": {
    "id": "ZUiOjQ45iAj-"
   },
   "source": [
    "# Importar archivo"
   ]
  },
  {
   "cell_type": "markdown",
   "metadata": {
    "id": "_9bvogetib1x"
   },
   "source": [
    "# Exploracion de datos"
   ]
  },
  {
   "cell_type": "markdown",
   "metadata": {
    "id": "NdpwbXJEjjtP"
   },
   "source": [
    "## Informacion general"
   ]
  },
  {
   "cell_type": "markdown",
   "metadata": {
    "id": "5JJRNLiCjoqB"
   },
   "source": [
    "## Revisar valores faltantes y duplicados"
   ]
  },
  {
   "cell_type": "markdown",
   "metadata": {
    "id": "mIL10ScjkaYr"
   },
   "source": [
    "## Análisis univariado"
   ]
  },
  {
   "cell_type": "markdown",
   "metadata": {
    "id": "cJ-RUUV8laPm"
   },
   "source": [
    "## Análisis bivariado"
   ]
  }
 ],
 "metadata": {
  "colab": {
   "authorship_tag": "ABX9TyM4kugh2BDaQvCb9d2xFjfN",
   "provenance": [],
   "toc_visible": true
  },
  "kernelspec": {
   "display_name": "Python 3",
   "name": "python3"
  },
  "language_info": {
   "name": "python"
  }
 },
 "nbformat": 4,
 "nbformat_minor": 0
}
